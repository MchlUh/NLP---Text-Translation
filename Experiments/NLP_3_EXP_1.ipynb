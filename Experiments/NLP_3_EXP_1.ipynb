{
  "nbformat": 4,
  "nbformat_minor": 0,
  "metadata": {
    "kernelspec": {
      "display_name": "Python 3",
      "language": "python",
      "name": "python3"
    },
    "language_info": {
      "codemirror_mode": {
        "name": "ipython",
        "version": 3
      },
      "file_extension": ".py",
      "mimetype": "text/x-python",
      "name": "python",
      "nbconvert_exporter": "python",
      "pygments_lexer": "ipython3",
      "version": "3.6.6"
    },
    "colab": {
      "name": "Copy of NLP-3-EXP-1.ipynb",
      "provenance": [],
      "collapsed_sections": [],
      "toc_visible": true
    },
    "accelerator": "GPU"
  },
  "cells": [
    {
      "cell_type": "code",
      "metadata": {
        "id": "tt9Zi_ruWr1Z",
        "colab_type": "code",
        "colab": {}
      },
      "source": [
        "%matplotlib inline"
      ],
      "execution_count": 0,
      "outputs": []
    },
    {
      "cell_type": "code",
      "metadata": {
        "id": "XC7Sqlg7BNZD",
        "colab_type": "code",
        "outputId": "2cc86de9-7b9b-41a5-9388-1e3d3bb97715",
        "colab": {
          "base_uri": "https://localhost:8080/",
          "height": 68
        }
      },
      "source": [
        "pip install sacrebleu"
      ],
      "execution_count": 3,
      "outputs": [
        {
          "output_type": "stream",
          "text": [
            "Requirement already satisfied: sacrebleu in /usr/local/lib/python3.6/dist-packages (1.4.9)\n",
            "Requirement already satisfied: portalocker in /usr/local/lib/python3.6/dist-packages (from sacrebleu) (1.7.0)\n",
            "Requirement already satisfied: typing in /usr/local/lib/python3.6/dist-packages (from sacrebleu) (3.6.6)\n"
          ],
          "name": "stdout"
        }
      ]
    },
    {
      "cell_type": "code",
      "metadata": {
        "id": "sMOodbHYWr1t",
        "colab_type": "code",
        "colab": {}
      },
      "source": [
        "from __future__ import unicode_literals, print_function, division\n",
        "from io import open\n",
        "import string\n",
        "import random\n",
        "\n",
        "import torch\n",
        "import torch.nn as nn\n",
        "from torch import optim\n",
        "import torch.nn.functional as F\n",
        "\n",
        "import sacrebleu\n",
        "\n",
        "from queue import PriorityQueue\n",
        "import operator\n",
        "\n",
        "from datetime import datetime\n",
        "import matplotlib.pyplot as plt\n",
        "\n",
        "\n",
        "device = torch.device(\"cuda\" if torch.cuda.is_available() else \"cpu\")"
      ],
      "execution_count": 0,
      "outputs": []
    },
    {
      "cell_type": "code",
      "metadata": {
        "id": "owC68eiSW3Ag",
        "colab_type": "code",
        "outputId": "84756675-25b9-410a-9313-0895b1b6f342",
        "colab": {
          "base_uri": "https://localhost:8080/",
          "height": 34
        }
      },
      "source": [
        "from google.colab import drive\n",
        "drive.mount('/content/drive')"
      ],
      "execution_count": 5,
      "outputs": [
        {
          "output_type": "stream",
          "text": [
            "Drive already mounted at /content/drive; to attempt to forcibly remount, call drive.mount(\"/content/drive\", force_remount=True).\n"
          ],
          "name": "stdout"
        }
      ]
    },
    {
      "cell_type": "code",
      "metadata": {
        "id": "AV4-JpeEcEpu",
        "colab_type": "code",
        "colab": {}
      },
      "source": [
        "import sys\n",
        "sys.path.append('/content/drive/My Drive/DSBA/Colab Notebooks')"
      ],
      "execution_count": 0,
      "outputs": []
    },
    {
      "cell_type": "code",
      "metadata": {
        "id": "Ih0asK7teZdu",
        "colab_type": "code",
        "colab": {}
      },
      "source": [
        "from data_reader import *"
      ],
      "execution_count": 0,
      "outputs": []
    },
    {
      "cell_type": "markdown",
      "metadata": {
        "id": "-Gz7EDJTWr12",
        "colab_type": "text"
      },
      "source": [
        "Loading data files\n",
        "==================\n",
        "\n",
        "\n",
        "\n"
      ]
    },
    {
      "cell_type": "code",
      "metadata": {
        "id": "BZksLzw1nkqG",
        "colab_type": "code",
        "colab": {}
      },
      "source": [
        "training_pairs = make_training_pairs('/content/drive/My Drive/DSBA/Colab Notebooks/')\n",
        "testing_pairs =  make_testing_pairs('/content/drive/My Drive/DSBA/Colab Notebooks/')"
      ],
      "execution_count": 0,
      "outputs": []
    },
    {
      "cell_type": "markdown",
      "metadata": {
        "id": "65J9SrKZiS6P",
        "colab_type": "text"
      },
      "source": [
        "### Vector representation - One Hot Embedding"
      ]
    },
    {
      "cell_type": "markdown",
      "metadata": {
        "id": "KoveKiSMWr2Z",
        "colab_type": "text"
      },
      "source": [
        "The full process for preparing the data is:\n",
        "\n",
        "-  Read text file and split into lines, split lines into pairs\n",
        "-  Normalize text, filter by length and content\n",
        "-  Make word lists from sentences in pairs\n",
        "\n",
        "\n"
      ]
    },
    {
      "cell_type": "code",
      "metadata": {
        "id": "BosZUA8HWr2a",
        "colab_type": "code",
        "outputId": "f56f64c8-1d8b-4ba1-f70f-70955ccdd5d6",
        "colab": {
          "base_uri": "https://localhost:8080/",
          "height": 221
        }
      },
      "source": [
        "def prepareData(lang1, lang2, data, train=True, reverse=False):\n",
        "    input_lang, output_lang, pairs = readLangs(lang1, lang2, data, reverse)\n",
        "    lengths_lang1 = [len(sentence) for sentence, _ in pairs]\n",
        "    MAX_LENGTH = 15\n",
        "    print(\"Read %s sentence pairs\" % len(pairs))\n",
        "    pairs = filterPairs(pairs, MAX_LENGTH)\n",
        "    print(\"Trimmed to %s sentence pairs\" % len(pairs))\n",
        "    print(\"Counting words...\")\n",
        "    if train:\n",
        "      for pair in pairs:\n",
        "          input_lang.addSentence(pair[0])\n",
        "          output_lang.addSentence(pair[1])\n",
        "      print(\"Counted words:\")\n",
        "      print(input_lang.name, input_lang.n_words)\n",
        "      print(output_lang.name, output_lang.n_words)\n",
        "    return input_lang, output_lang, pairs, MAX_LENGTH\n",
        "\n",
        "input_lang, output_lang, train_pairs, MAX_LENGTH = prepareData('eng', 'fra', training_pairs, reverse=True)\n",
        "_, _, test_pairs, _ = prepareData('eng', 'fra', testing_pairs, train=False, reverse=True)\n",
        "\n",
        "print(random.choice(train_pairs))"
      ],
      "execution_count": 9,
      "outputs": [
        {
          "output_type": "stream",
          "text": [
            "Reading lines...\n",
            "Read 2551 sentence pairs\n",
            "Trimmed to 996 sentence pairs\n",
            "Counting words...\n",
            "Counted words:\n",
            "fra 1738\n",
            "eng 1980\n",
            "Reading lines...\n",
            "Read 1942 sentence pairs\n",
            "Trimmed to 794 sentence pairs\n",
            "Counting words...\n",
            "['i ll do it for you and then i ll explain it .', 'je vais vous le faire puis vous l expliquer .']\n"
          ],
          "name": "stdout"
        }
      ]
    },
    {
      "cell_type": "code",
      "metadata": {
        "id": "A60ELi4whBVr",
        "colab_type": "code",
        "outputId": "f383f503-b6fd-4c5e-eade-10a4eacf22eb",
        "colab": {
          "base_uri": "https://localhost:8080/",
          "height": 34
        }
      },
      "source": [
        "MAX_LENGTH"
      ],
      "execution_count": 10,
      "outputs": [
        {
          "output_type": "execute_result",
          "data": {
            "text/plain": [
              "15"
            ]
          },
          "metadata": {
            "tags": []
          },
          "execution_count": 10
        }
      ]
    },
    {
      "cell_type": "markdown",
      "metadata": {
        "id": "cD0QGVXlWr2f",
        "colab_type": "text"
      },
      "source": [
        "The Seq2Seq Model\n",
        "=================\n",
        "\n",
        "A Recurrent Neural Network, or RNN, is a network that operates on a\n",
        "sequence and uses its own output as input for subsequent steps.\n",
        "\n",
        "A `Sequence to Sequence network <http://arxiv.org/abs/1409.3215>`__, or\n",
        "seq2seq network, or `Encoder Decoder\n",
        "network <https://arxiv.org/pdf/1406.1078v3.pdf>`__, is a model\n",
        "consisting of two RNNs called the encoder and decoder. The encoder reads\n",
        "an input sequence and outputs a single vector, and the decoder reads\n",
        "that vector to produce an output sequence.\n",
        "\n",
        ".. figure:: /_static/img/seq-seq-images/seq2seq.png\n",
        "   :alt:\n",
        "\n",
        "Unlike sequence prediction with a single RNN, where every input\n",
        "corresponds to an output, the seq2seq model frees us from sequence\n",
        "length and order, which makes it ideal for translation between two\n",
        "languages.\n",
        "\n",
        "Consider the sentence \"Je ne suis pas le chat noir\" → \"I am not the\n",
        "black cat\". Most of the words in the input sentence have a direct\n",
        "translation in the output sentence, but are in slightly different\n",
        "orders, e.g. \"chat noir\" and \"black cat\". Because of the \"ne/pas\"\n",
        "construction there is also one more word in the input sentence. It would\n",
        "be difficult to produce a correct translation directly from the sequence\n",
        "of input words.\n",
        "\n",
        "With a seq2seq model the encoder creates a single vector which, in the\n",
        "ideal case, encodes the \"meaning\" of the input sequence into a single\n",
        "vector — a single point in some N dimensional space of sentences.\n",
        "\n",
        "\n"
      ]
    },
    {
      "cell_type": "markdown",
      "metadata": {
        "id": "CKO8AALNWr2g",
        "colab_type": "text"
      },
      "source": [
        "The Encoder\n",
        "-----------\n",
        "\n",
        "The encoder of a seq2seq network is a RNN that outputs some value for\n",
        "every word from the input sentence. For every input word the encoder\n",
        "outputs a vector and a hidden state, and uses the hidden state for the\n",
        "next input word.\n",
        "\n",
        ".. figure:: /_static/img/seq-seq-images/encoder-network.png\n",
        "   :alt:\n",
        "\n",
        "\n",
        "\n"
      ]
    },
    {
      "cell_type": "code",
      "metadata": {
        "id": "DRp46Ly6Wr2g",
        "colab_type": "code",
        "colab": {}
      },
      "source": [
        "class EncoderRNN(nn.Module):\n",
        "    def __init__(self, input_size, hidden_size):\n",
        "        super(EncoderRNN, self).__init__()\n",
        "        self.hidden_size = hidden_size\n",
        "\n",
        "        self.embedding = nn.Embedding(input_size, hidden_size)\n",
        "        self.gru = nn.GRU(hidden_size, hidden_size)\n",
        "\n",
        "    def forward(self, input, hidden):\n",
        "        embedded = self.embedding(input).view(1, 1, -1)\n",
        "        output = embedded\n",
        "        output, hidden = self.gru(output, hidden)\n",
        "        return output, hidden\n",
        "\n",
        "    def initHidden(self):\n",
        "        return torch.zeros(1, 1, self.hidden_size, device=device)"
      ],
      "execution_count": 0,
      "outputs": []
    },
    {
      "cell_type": "markdown",
      "metadata": {
        "id": "4T-yPiswWr2n",
        "colab_type": "text"
      },
      "source": [
        "The Decoder\n",
        "-----------\n",
        "\n",
        "The decoder is another RNN that takes the encoder output vector(s) and\n",
        "outputs a sequence of words to create the translation.\n",
        "\n",
        "\n"
      ]
    },
    {
      "cell_type": "markdown",
      "metadata": {
        "id": "s0en2xJaWr2o",
        "colab_type": "text"
      },
      "source": [
        "Simple Decoder\n",
        "^^^^^^^^^^^^^^\n",
        "\n",
        "In the simplest seq2seq decoder we use only last output of the encoder.\n",
        "This last output is sometimes called the *context vector* as it encodes\n",
        "context from the entire sequence. This context vector is used as the\n",
        "initial hidden state of the decoder.\n",
        "\n",
        "At every step of decoding, the decoder is given an input token and\n",
        "hidden state. The initial input token is the start-of-string ``<SOS>``\n",
        "token, and the first hidden state is the context vector (the encoder's\n",
        "last hidden state).\n",
        "\n",
        ".. figure:: /_static/img/seq-seq-images/decoder-network.png\n",
        "   :alt:\n",
        "\n",
        "\n",
        "\n"
      ]
    },
    {
      "cell_type": "code",
      "metadata": {
        "id": "rZDKNPgpWr2o",
        "colab_type": "code",
        "colab": {}
      },
      "source": [
        "class DecoderRNN(nn.Module):\n",
        "    def __init__(self, hidden_size, output_size):\n",
        "        super(DecoderRNN, self).__init__()\n",
        "        self.hidden_size = hidden_size\n",
        "\n",
        "        self.embedding = nn.Embedding(output_size, hidden_size)\n",
        "        self.gru = nn.GRU(hidden_size, hidden_size)\n",
        "        self.out = nn.Linear(hidden_size, output_size)\n",
        "        self.softmax = nn.LogSoftmax(dim=1)\n",
        "\n",
        "    def forward(self, input, hidden):\n",
        "        output = self.embedding(input).view(1, 1, -1)\n",
        "        output = F.relu(output)\n",
        "        output, hidden = self.gru(output, hidden)\n",
        "        output = self.softmax(self.out(output[0]))\n",
        "        return output, hidden\n",
        "\n",
        "    def initHidden(self):\n",
        "        return torch.zeros(1, 1, self.hidden_size, device=device)"
      ],
      "execution_count": 0,
      "outputs": []
    },
    {
      "cell_type": "markdown",
      "metadata": {
        "id": "fEoP25ZZWr2q",
        "colab_type": "text"
      },
      "source": [
        "I encourage you to train and observe the results of this model, but to\n",
        "save space we'll be going straight for the gold and introducing the\n",
        "Attention Mechanism.\n",
        "\n",
        "\n"
      ]
    },
    {
      "cell_type": "markdown",
      "metadata": {
        "id": "1FeOjRP_Wr2q",
        "colab_type": "text"
      },
      "source": [
        "Attention Decoder\n",
        "^^^^^^^^^^^^^^^^^\n",
        "\n",
        "If only the context vector is passed betweeen the encoder and decoder,\n",
        "that single vector carries the burden of encoding the entire sentence.\n",
        "\n",
        "Attention allows the decoder network to \"focus\" on a different part of\n",
        "the encoder's outputs for every step of the decoder's own outputs. First\n",
        "we calculate a set of *attention weights*. These will be multiplied by\n",
        "the encoder output vectors to create a weighted combination. The result\n",
        "(called ``attn_applied`` in the code) should contain information about\n",
        "that specific part of the input sequence, and thus help the decoder\n",
        "choose the right output words.\n",
        "\n",
        ".. figure:: https://i.imgur.com/1152PYf.png\n",
        "   :alt:\n",
        "\n",
        "Calculating the attention weights is done with another feed-forward\n",
        "layer ``attn``, using the decoder's input and hidden state as inputs.\n",
        "Because there are sentences of all sizes in the training data, to\n",
        "actually create and train this layer we have to choose a maximum\n",
        "sentence length (input length, for encoder outputs) that it can apply\n",
        "to. Sentences of the maximum length will use all the attention weights,\n",
        "while shorter sentences will only use the first few.\n",
        "\n",
        ".. figure:: /_static/img/seq-seq-images/attention-decoder-network.png\n",
        "   :alt:\n",
        "\n",
        "\n",
        "\n"
      ]
    },
    {
      "cell_type": "code",
      "metadata": {
        "id": "D8fXDdytWr2r",
        "colab_type": "code",
        "colab": {}
      },
      "source": [
        "class AttnDecoderRNN(nn.Module):\n",
        "    def __init__(self, hidden_size, output_size, dropout_p=0.1, max_length=MAX_LENGTH):\n",
        "        super(AttnDecoderRNN, self).__init__()\n",
        "        self.hidden_size = hidden_size\n",
        "        self.output_size = output_size\n",
        "        self.dropout_p = dropout_p\n",
        "        self.max_length = max_length\n",
        "\n",
        "        self.embedding = nn.Embedding(self.output_size, self.hidden_size)\n",
        "        self.attn = nn.Linear(self.hidden_size * 2, self.max_length)\n",
        "        self.attn_combine = nn.Linear(self.hidden_size * 2, self.hidden_size)\n",
        "        self.dropout = nn.Dropout(self.dropout_p)\n",
        "        self.gru = nn.GRU(self.hidden_size, self.hidden_size)\n",
        "        self.out = nn.Linear(self.hidden_size, self.output_size)\n",
        "\n",
        "    def forward(self, input, hidden, encoder_outputs):\n",
        "        embedded = self.embedding(input).view(1, 1, -1)\n",
        "        embedded = self.dropout(embedded)\n",
        "\n",
        "        attn_weights = F.softmax(\n",
        "            self.attn(torch.cat((embedded[0], hidden[0]), 1)), dim=1)\n",
        "        attn_applied = torch.bmm(attn_weights.unsqueeze(0),\n",
        "                                 encoder_outputs.unsqueeze(0))\n",
        "\n",
        "        output = torch.cat((embedded[0], attn_applied[0]), 1)\n",
        "        output = self.attn_combine(output).unsqueeze(0)\n",
        "\n",
        "        output = F.relu(output)\n",
        "        output, hidden = self.gru(output, hidden)\n",
        "\n",
        "        output = F.log_softmax(self.out(output[0]), dim=1)\n",
        "        return output, hidden, attn_weights\n",
        "\n",
        "    def initHidden(self):\n",
        "        return torch.zeros(1, 1, self.hidden_size, device=device)"
      ],
      "execution_count": 0,
      "outputs": []
    },
    {
      "cell_type": "markdown",
      "metadata": {
        "id": "mbWthd7LWr2t",
        "colab_type": "text"
      },
      "source": [
        "<div class=\"alert alert-info\"><h4>Note</h4><p>There are other forms of attention that work around the length\n",
        "  limitation by using a relative position approach. Read about \"local\n",
        "  attention\" in `Effective Approaches to Attention-based Neural Machine\n",
        "  Translation <https://arxiv.org/abs/1508.04025>`__.</p></div>\n",
        "\n",
        "Training\n",
        "========\n",
        "\n",
        "Preparing Training Data\n",
        "-----------------------\n",
        "\n",
        "To train, for each pair we will need an input tensor (indexes of the\n",
        "words in the input sentence) and target tensor (indexes of the words in\n",
        "the target sentence). While creating these vectors we will append the\n",
        "EOS token to both sequences.\n",
        "\n",
        "\n"
      ]
    },
    {
      "cell_type": "code",
      "metadata": {
        "id": "KYLxYsx5Wr2u",
        "colab_type": "code",
        "colab": {}
      },
      "source": [
        "def indexesFromSentence(lang, sentence):\n",
        "    return [lang.word2index[word] for word in sentence.split(' ')]\n",
        "\n",
        "\n",
        "def tensorFromSentence(lang, sentence):\n",
        "    indexes = indexesFromSentence(lang, sentence)\n",
        "    indexes.append(EOS_token)\n",
        "    return torch.tensor(indexes, dtype=torch.long, device=device).view(-1, 1)\n",
        "\n",
        "\n",
        "def tensorsFromPair(pair):\n",
        "    input_tensor = tensorFromSentence(input_lang, pair[0])\n",
        "    target_tensor = tensorFromSentence(output_lang, pair[1])\n",
        "    return (input_tensor, target_tensor)"
      ],
      "execution_count": 0,
      "outputs": []
    },
    {
      "cell_type": "markdown",
      "metadata": {
        "id": "4xoO7JeaWr2w",
        "colab_type": "text"
      },
      "source": [
        "Training the Model\n",
        "------------------\n",
        "\n",
        "To train we run the input sentence through the encoder, and keep track\n",
        "of every output and the latest hidden state. Then the decoder is given\n",
        "the ``<SOS>`` token as its first input, and the last hidden state of the\n",
        "encoder as its first hidden state.\n",
        "\n",
        "\"Teacher forcing\" is the concept of using the real target outputs as\n",
        "each next input, instead of using the decoder's guess as the next input.\n",
        "Using teacher forcing causes it to converge faster but `when the trained\n",
        "network is exploited, it may exhibit\n",
        "instability <http://minds.jacobs-university.de/sites/default/files/uploads/papers/ESNTutorialRev.pdf>`__.\n",
        "\n",
        "You can observe outputs of teacher-forced networks that read with\n",
        "coherent grammar but wander far from the correct translation -\n",
        "intuitively it has learned to represent the output grammar and can \"pick\n",
        "up\" the meaning once the teacher tells it the first few words, but it\n",
        "has not properly learned how to create the sentence from the translation\n",
        "in the first place.\n",
        "\n",
        "Because of the freedom PyTorch's autograd gives us, we can randomly\n",
        "choose to use teacher forcing or not with a simple if statement. Turn\n",
        "``teacher_forcing_ratio`` up to use more of it.\n",
        "\n",
        "\n"
      ]
    },
    {
      "cell_type": "code",
      "metadata": {
        "id": "OphszkeTWr2x",
        "colab_type": "code",
        "colab": {}
      },
      "source": [
        "teacher_forcing_ratio = 0.5\n",
        "\n",
        "\n",
        "def train(input_tensor, target_tensor, encoder, decoder, encoder_optimizer, decoder_optimizer, criterion, max_length=MAX_LENGTH):\n",
        "    encoder_hidden = encoder.initHidden()\n",
        "\n",
        "    encoder_optimizer.zero_grad()\n",
        "    decoder_optimizer.zero_grad()\n",
        "\n",
        "    input_length = input_tensor.size(0)\n",
        "    target_length = target_tensor.size(0)\n",
        "\n",
        "    encoder_outputs = torch.zeros(max_length, encoder.hidden_size, device=device)\n",
        "\n",
        "    loss = 0\n",
        "\n",
        "    for ei in range(input_length):\n",
        "        encoder_output, encoder_hidden = encoder(\n",
        "            input_tensor[ei], encoder_hidden)\n",
        "        encoder_outputs[ei] = encoder_output[0, 0]\n",
        "\n",
        "    decoder_input = torch.tensor([[SOS_token]], device=device)\n",
        "\n",
        "    decoder_hidden = encoder_hidden\n",
        "\n",
        "    use_teacher_forcing = True if random.random() < teacher_forcing_ratio else False\n",
        "\n",
        "    if use_teacher_forcing:\n",
        "        # Teacher forcing: Feed the target as the next input\n",
        "        for di in range(target_length):\n",
        "            decoder_output, decoder_hidden, decoder_attention = decoder(\n",
        "                decoder_input, decoder_hidden, encoder_outputs)\n",
        "            loss += criterion(decoder_output, target_tensor[di])\n",
        "            decoder_input = target_tensor[di]  # Teacher forcing\n",
        "\n",
        "    else:\n",
        "        # Without teacher forcing: use its own predictions as the next input\n",
        "        for di in range(target_length):\n",
        "            decoder_output, decoder_hidden, decoder_attention = decoder(\n",
        "                decoder_input, decoder_hidden, encoder_outputs)\n",
        "            topv, topi = decoder_output.topk(1)\n",
        "            decoder_input = topi.squeeze().detach()  # detach from history as input\n",
        "\n",
        "            loss += criterion(decoder_output, target_tensor[di])\n",
        "            if decoder_input.item() == EOS_token:\n",
        "                break\n",
        "\n",
        "    loss.backward()\n",
        "\n",
        "    encoder_optimizer.step()\n",
        "    decoder_optimizer.step()\n",
        "\n",
        "    return loss.item() / target_length"
      ],
      "execution_count": 0,
      "outputs": []
    },
    {
      "cell_type": "markdown",
      "metadata": {
        "id": "TUfjCtQrWr2z",
        "colab_type": "text"
      },
      "source": [
        "This is a helper function to print time elapsed and estimated time\n",
        "remaining given the current time and progress %.\n",
        "\n",
        "\n"
      ]
    },
    {
      "cell_type": "code",
      "metadata": {
        "id": "QOSZ8yGAWr2z",
        "colab_type": "code",
        "colab": {}
      },
      "source": [
        "import time\n",
        "import math\n",
        "\n",
        "\n",
        "def asMinutes(s):\n",
        "    m = math.floor(s / 60)\n",
        "    s -= m * 60\n",
        "    return '%dm %ds' % (m, s)\n",
        "\n",
        "\n",
        "def timeSince(since, percent):\n",
        "    now = time.time()\n",
        "    s = now - since\n",
        "    es = s / (percent)\n",
        "    rs = es - s\n",
        "    return '%s (- %s)' % (asMinutes(s), asMinutes(rs))"
      ],
      "execution_count": 0,
      "outputs": []
    },
    {
      "cell_type": "markdown",
      "metadata": {
        "id": "keUGvV0zWr24",
        "colab_type": "text"
      },
      "source": [
        "The whole training process looks like this:\n",
        "\n",
        "-  Start a timer\n",
        "-  Initialize optimizers and criterion\n",
        "-  Create set of training pairs\n",
        "-  Start empty losses array for plotting\n",
        "\n",
        "Then we call ``train`` many times and occasionally print the progress (%\n",
        "of examples, time so far, estimated time) and average loss.\n",
        "\n",
        "\n"
      ]
    },
    {
      "cell_type": "code",
      "metadata": {
        "id": "p_BZqwoIWr25",
        "colab_type": "code",
        "colab": {}
      },
      "source": [
        "def trainIters(encoder, decoder, n_iters, print_every=1000, plot_every=100, learning_rate=0.003):\n",
        "    start = time.time()\n",
        "    plot_losses = []\n",
        "    print_loss_total = 0  # Reset every print_every\n",
        "    plot_loss_total = 0  # Reset every plot_every\n",
        "\n",
        "    encoder_optimizer = optim.Adam(encoder.parameters(), lr=learning_rate)\n",
        "    decoder_optimizer = optim.Adam(decoder.parameters(), lr=learning_rate)\n",
        "    training_pairs = [tensorsFromPair(random.choice(train_pairs))\n",
        "                      for i in range(n_iters)]\n",
        "    criterion = nn.NLLLoss()\n",
        "\n",
        "    for iter in range(1, n_iters + 1):\n",
        "        training_pair = training_pairs[iter - 1]\n",
        "        input_tensor = training_pair[0]\n",
        "        target_tensor = training_pair[1]\n",
        "\n",
        "        loss = train(input_tensor, target_tensor, encoder,\n",
        "                     decoder, encoder_optimizer, decoder_optimizer, criterion)\n",
        "        print_loss_total += loss\n",
        "        plot_loss_total += loss\n",
        "\n",
        "        if iter % print_every == 0:\n",
        "            print_loss_avg = print_loss_total / print_every\n",
        "            print_loss_total = 0\n",
        "            print('%s (%d %d%%) %.4f' % (timeSince(start, iter / n_iters),\n",
        "                                         iter, iter / n_iters * 100, print_loss_avg))\n",
        "\n",
        "        if iter % plot_every == 0:\n",
        "            plot_loss_avg = plot_loss_total / plot_every\n",
        "            plot_losses.append(plot_loss_avg)\n",
        "            plot_loss_total = 0\n",
        "\n",
        "    showPlot(plot_losses)"
      ],
      "execution_count": 0,
      "outputs": []
    },
    {
      "cell_type": "markdown",
      "metadata": {
        "id": "vhOhRbZaWr27",
        "colab_type": "text"
      },
      "source": [
        "Plotting results\n",
        "----------------\n",
        "\n",
        "Plotting is done with matplotlib, using the array of loss values\n",
        "``plot_losses`` saved while training.\n",
        "\n",
        "\n"
      ]
    },
    {
      "cell_type": "code",
      "metadata": {
        "id": "afLkU9GPWr27",
        "colab_type": "code",
        "colab": {}
      },
      "source": [
        "import matplotlib.pyplot as plt\n",
        "plt.switch_backend('agg')\n",
        "import matplotlib.ticker as ticker\n",
        "import numpy as np\n",
        "\n",
        "\n",
        "def showPlot(points):\n",
        "    plt.figure()\n",
        "    fig, ax = plt.subplots()\n",
        "    # this locator puts ticks at regular intervals\n",
        "    loc = ticker.MultipleLocator(base=0.2)\n",
        "    ax.yaxis.set_major_locator(loc)\n",
        "    plt.plot(points)"
      ],
      "execution_count": 0,
      "outputs": []
    },
    {
      "cell_type": "markdown",
      "metadata": {
        "id": "oCNjmRmMWr29",
        "colab_type": "text"
      },
      "source": [
        "Evaluation\n",
        "==========\n",
        "\n",
        "Evaluation is mostly the same as training, but there are no targets so\n",
        "we simply feed the decoder's predictions back to itself for each step.\n",
        "Every time it predicts a word we add it to the output string, and if it\n",
        "predicts the EOS token we stop there. We also store the decoder's\n",
        "attention outputs for display later.\n",
        "\n",
        "\n"
      ]
    },
    {
      "cell_type": "code",
      "metadata": {
        "id": "V9YHOf5KWr29",
        "colab_type": "code",
        "colab": {}
      },
      "source": [
        "def evaluate(encoder, decoder, sentence, max_length=MAX_LENGTH):\n",
        "    with torch.no_grad():\n",
        "        input_tensor = tensorFromSentence(input_lang, sentence)\n",
        "        input_length = input_tensor.size()[0]\n",
        "        encoder_hidden = encoder.initHidden()\n",
        "\n",
        "        encoder_outputs = torch.zeros(max_length, encoder.hidden_size, device=device)\n",
        "\n",
        "        for ei in range(input_length):\n",
        "            encoder_output, encoder_hidden = encoder(input_tensor[ei],\n",
        "                                                     encoder_hidden)\n",
        "            encoder_outputs[ei] += encoder_output[0, 0]\n",
        "\n",
        "        decoder_input = torch.tensor([[SOS_token]], device=device)  # SOS\n",
        "\n",
        "\n",
        "        decoder_hidden = encoder_hidden\n",
        "\n",
        "        decoded_words = []\n",
        "        decoder_attentions = torch.zeros(max_length, max_length)\n",
        "\n",
        "        for di in range(max_length):\n",
        "            decoder_output, decoder_hidden, decoder_attention = decoder(\n",
        "                decoder_input, decoder_hidden, encoder_outputs)\n",
        "            decoder_attentions[di] = decoder_attention.data\n",
        "            topv, topi = decoder_output.data.topk(1)\n",
        "            if topi.item() == EOS_token:\n",
        "                decoded_words.append('<EOS>')\n",
        "                break\n",
        "            else:\n",
        "                decoded_words.append(output_lang.index2word[topi.item()])\n",
        "\n",
        "            decoder_input = topi.squeeze().detach()\n",
        "\n",
        "        return decoded_words, decoder_attentions[:di + 1]"
      ],
      "execution_count": 0,
      "outputs": []
    },
    {
      "cell_type": "code",
      "metadata": {
        "id": "ecT1OhbeWr3H",
        "colab_type": "code",
        "colab": {}
      },
      "source": [
        "def evaluateRandomly(encoder, decoder, n=10):\n",
        "    for i in range(n):\n",
        "        pair = random.choice(train_pairs)\n",
        "        print('>', pair[0])\n",
        "        print('=', pair[1])\n",
        "        output_words, attentions = evaluate(encoder, decoder, pair[0])\n",
        "        output_sentence = ' '.join(output_words)\n",
        "        print('<', output_sentence)\n",
        "        print('')"
      ],
      "execution_count": 0,
      "outputs": []
    },
    {
      "cell_type": "markdown",
      "metadata": {
        "id": "FLrohuWLLG8v",
        "colab_type": "text"
      },
      "source": [
        "# BEAM Evaluation"
      ]
    },
    {
      "cell_type": "code",
      "metadata": {
        "id": "s_ICY9Vt20fK",
        "colab_type": "code",
        "colab": {}
      },
      "source": [
        "# We inspired us here from the very good work from this Github repository:\n",
        "# https://github.com/budzianowski/PyTorch-Beam-Search-Decoding/blob/master/decode_beam.py\n",
        "\n",
        "\n",
        "class BeamSearchNode(object):\n",
        "    def __init__(self, hiddenstate, previousNode, wordId, logProb, length):\n",
        "        '''\n",
        "        :param hiddenstate:\n",
        "        :param previousNode:\n",
        "        :param wordId:\n",
        "        :param logProb:\n",
        "        :param length:\n",
        "        '''\n",
        "        self.h = hiddenstate\n",
        "        self.prevNode = previousNode\n",
        "        self.wordid = wordId\n",
        "        self.logp = logProb\n",
        "        self.leng = length\n",
        "\n",
        "    def eval(self, alpha=1.0):\n",
        "        reward = 0\n",
        "        return self.logp / float(self.leng - 1 + 1e-6) + alpha * reward\n",
        "\n",
        "\n",
        "\n",
        "def beam_decode(decoder, decoder_hiddens, encoder_outputs, beam_width=10, qsize_max=2000):\n",
        "    '''\n",
        "    :param decoder_hidden: input tensor of shape [1, B, H] for start of the decoding where B Batch size, H hidden size\n",
        "    :param encoder_outputs: if you are using attention mechanism you can pass encoder outputs, [T, B, H] where T is the maximum length of input sentence\n",
        "    :return: decoded_batch\n",
        "    '''\n",
        "\n",
        "    topk = 1  # how many sentence do you want to generate\n",
        "\n",
        "    decoder_hidden = decoder_hiddens\n",
        "    encoder_output = encoder_outputs\n",
        "\n",
        "    # Start with the start of the sentence token\n",
        "    decoder_input = torch.tensor([[SOS_token]], device=device)\n",
        "\n",
        "    # Number of sentence to generate\n",
        "    endnodes = []\n",
        "    number_required = min((topk + 1), topk - len(endnodes))\n",
        "\n",
        "    # starting node -  hidden vector, previous node, word id, logp, length\n",
        "    node = BeamSearchNode(decoder_hidden, None, decoder_input, 0, 1)\n",
        "    nodes = [(-node.eval(), node)]\n",
        "\n",
        "    # start the queue\n",
        "    qsize = 1\n",
        "\n",
        "    # start beam search\n",
        "    while True:\n",
        "        # give up when decoding takes too long\n",
        "        if qsize > qsize_max: break\n",
        "\n",
        "        # fetch the best node\n",
        "        nodes = sorted(nodes, key=lambda x : -x[0])\n",
        "        score, n = nodes.pop()\n",
        "        decoder_input = n.wordid\n",
        "        decoder_hidden = n.h\n",
        "\n",
        "        if n.wordid.item() == EOS_token and n.prevNode != None:\n",
        "            endnodes.append((score, n))\n",
        "            # if we reached maximum # of sentences required\n",
        "            if len(endnodes) >= number_required:\n",
        "                break\n",
        "            else:\n",
        "                continue\n",
        "\n",
        "        # decode for one step using decoder\n",
        "        decoder_output, decoder_hidden, _ = decoder(decoder_input, decoder_hidden, encoder_output)\n",
        "\n",
        "        # PUT HERE REAL BEAM SEARCH OF TOP\n",
        "        log_prob, indexes = torch.topk(decoder_output, beam_width)\n",
        "        nextnodes = []\n",
        "\n",
        "        for new_k in range(beam_width):\n",
        "            decoded_t = indexes[0][new_k].view(1, -1)\n",
        "            log_p = log_prob[0][new_k].item()\n",
        "\n",
        "            node = BeamSearchNode(decoder_hidden, n, decoded_t, n.logp + log_p, n.leng + 1)\n",
        "            score = -node.eval()\n",
        "            nextnodes.append((score, node))\n",
        "\n",
        "        # put them into queue\n",
        "        for i in range(len(nextnodes)):\n",
        "            score, n_n = nextnodes[i]\n",
        "            nodes.append((score, n_n))\n",
        "            # increase qsize\n",
        "        qsize += len(nextnodes) - 1\n",
        "\n",
        "\n",
        "    nodes = sorted(nodes, key=lambda x : -x[0])\n",
        "    # choose nbest paths, back trace them\n",
        "    if len(endnodes) == 0:\n",
        "        endnodes = [nodes.pop() for _ in range(topk)]\n",
        "    utterances = []\n",
        "    for score, n in sorted(endnodes, key=operator.itemgetter(0)):\n",
        "        utterance = []\n",
        "        utterance.append(n.wordid)\n",
        "        # back trace\n",
        "        while n.prevNode != None:\n",
        "            n = n.prevNode\n",
        "            utterance.append(n.wordid)\n",
        "\n",
        "        utterance = utterance[::-1]\n",
        "        utterances.append(utterance)\n",
        "\n",
        "\n",
        "    return utterances\n",
        "\n",
        "\n"
      ],
      "execution_count": 0,
      "outputs": []
    },
    {
      "cell_type": "code",
      "metadata": {
        "id": "sbsSyfJrF8qL",
        "colab_type": "code",
        "colab": {}
      },
      "source": [
        "def beam_evaluate(encoder, decoder, sentence, max_length=MAX_LENGTH, beam_width=10, qsize_max=2000):\n",
        "    with torch.no_grad():\n",
        "        input_tensor = tensorFromSentence(input_lang, sentence)\n",
        "        input_length = input_tensor.size()[0]\n",
        "        encoder_hidden = encoder.initHidden()\n",
        "\n",
        "        encoder_outputs = torch.zeros(max_length, encoder.hidden_size, device=device)\n",
        "\n",
        "        for ei in range(input_length):\n",
        "            encoder_output, encoder_hidden = encoder(input_tensor[ei],\n",
        "                                                     encoder_hidden)\n",
        "            encoder_outputs[ei] += encoder_output[0, 0]\n",
        "\n",
        "        decoder_input = torch.tensor([[SOS_token]], device=device)\n",
        "\n",
        "        decoder_hidden = encoder_hidden\n",
        "\n",
        "        decoded_words = []\n",
        "\n",
        "        decoded_batch = beam_decode(decoder, decoder_hidden, encoder_outputs, beam_width, qsize_max)\n",
        "        decoded_words = [output_lang.index2word[i[0].item()] for i in decoded_batch[0]]\n",
        "\n",
        "        return decoded_words\n",
        "\n",
        "\n"
      ],
      "execution_count": 0,
      "outputs": []
    },
    {
      "cell_type": "code",
      "metadata": {
        "id": "xoJe9Or1a4P9",
        "colab_type": "code",
        "colab": {}
      },
      "source": [
        "def BEAMEvaluateRandomly(encoder, decoder, n=10):\n",
        "    for i in range(n):\n",
        "        pair = random.choice(train_pairs)\n",
        "        print('>', pair[0])\n",
        "        print('=', pair[1])\n",
        "        output_words = beam_evaluate(encoder, decoder, pair[0])\n",
        "        output_sentence = ' '.join(output_words)\n",
        "        print('<', output_sentence)\n",
        "        print('')"
      ],
      "execution_count": 0,
      "outputs": []
    },
    {
      "cell_type": "markdown",
      "metadata": {
        "id": "fX2vWthOWr3B",
        "colab_type": "text"
      },
      "source": [
        "We can evaluate random sentences from the training set and print out the\n",
        "input, target, and output to make some subjective quality judgements:\n",
        "\n",
        "\n"
      ]
    },
    {
      "cell_type": "markdown",
      "metadata": {
        "id": "o4oBixfjWr3M",
        "colab_type": "text"
      },
      "source": [
        "Training and Evaluating\n",
        "=======================\n",
        "\n",
        "With all these helper functions in place (it looks like extra work, but\n",
        "it makes it easier to run multiple experiments) we can actually\n",
        "initialize a network and start training.\n",
        "\n",
        "Remember that the input sentences were heavily filtered. For this small\n",
        "dataset we can use relatively small networks of 256 hidden nodes and a\n",
        "single GRU layer. After about 40 minutes on a MacBook CPU we'll get some\n",
        "reasonable results.\n",
        "\n",
        ".. Note::\n",
        "   If you run this notebook you can train, interrupt the kernel,\n",
        "   evaluate, and continue training later. Comment out the lines where the\n",
        "   encoder and decoder are initialized and run ``trainIters`` again.\n",
        "\n",
        "\n"
      ]
    },
    {
      "cell_type": "code",
      "metadata": {
        "id": "pFXTh8NFWr3M",
        "colab_type": "code",
        "outputId": "5d6ce23d-3ed6-4b34-a5fa-e4b8cac961cb",
        "colab": {
          "base_uri": "https://localhost:8080/",
          "height": 612
        }
      },
      "source": [
        "hidden_size = 256\n",
        "encoder1 = EncoderRNN(input_lang.n_words, hidden_size).to(device)\n",
        "attn_decoder1 = AttnDecoderRNN(hidden_size, output_lang.n_words, dropout_p=0.1).to(device)\n",
        "\n",
        "trainIters(encoder1, attn_decoder1, n_iters=35000, print_every=1000, learning_rate=0.0007)"
      ],
      "execution_count": 24,
      "outputs": [
        {
          "output_type": "stream",
          "text": [
            "0m 23s (- 13m 15s) (1000 2%) 4.3983\n",
            "0m 46s (- 12m 40s) (2000 5%) 3.9538\n",
            "1m 9s (- 12m 16s) (3000 8%) 3.3289\n",
            "1m 32s (- 11m 56s) (4000 11%) 2.7021\n",
            "1m 56s (- 11m 36s) (5000 14%) 2.1269\n",
            "2m 19s (- 11m 14s) (6000 17%) 1.6728\n",
            "2m 43s (- 10m 52s) (7000 20%) 1.3509\n",
            "3m 7s (- 10m 31s) (8000 22%) 1.0293\n",
            "3m 30s (- 10m 9s) (9000 25%) 0.9068\n",
            "3m 55s (- 9m 47s) (10000 28%) 0.7168\n",
            "4m 19s (- 9m 25s) (11000 31%) 0.5855\n",
            "4m 44s (- 9m 4s) (12000 34%) 0.5237\n",
            "5m 8s (- 8m 42s) (13000 37%) 0.4827\n",
            "5m 33s (- 8m 19s) (14000 40%) 0.4390\n",
            "5m 57s (- 7m 57s) (15000 42%) 0.3940\n",
            "6m 22s (- 7m 33s) (16000 45%) 0.3237\n",
            "6m 46s (- 7m 10s) (17000 48%) 0.2954\n",
            "7m 11s (- 6m 47s) (18000 51%) 0.2490\n",
            "7m 35s (- 6m 23s) (19000 54%) 0.2584\n",
            "7m 59s (- 5m 59s) (20000 57%) 0.2457\n",
            "8m 23s (- 5m 35s) (21000 60%) 0.2722\n",
            "8m 48s (- 5m 12s) (22000 62%) 0.2864\n",
            "9m 12s (- 4m 48s) (23000 65%) 0.2411\n",
            "9m 37s (- 4m 24s) (24000 68%) 0.1578\n",
            "10m 1s (- 4m 0s) (25000 71%) 0.1888\n",
            "10m 25s (- 3m 36s) (26000 74%) 0.2336\n",
            "10m 50s (- 3m 12s) (27000 77%) 0.2099\n",
            "11m 14s (- 2m 48s) (28000 80%) 0.1616\n",
            "11m 39s (- 2m 24s) (29000 82%) 0.1537\n",
            "12m 3s (- 2m 0s) (30000 85%) 0.1803\n",
            "12m 28s (- 1m 36s) (31000 88%) 0.2434\n",
            "12m 52s (- 1m 12s) (32000 91%) 0.1809\n",
            "13m 17s (- 0m 48s) (33000 94%) 0.1713\n",
            "13m 41s (- 0m 24s) (34000 97%) 0.1467\n",
            "14m 5s (- 0m 0s) (35000 100%) 0.1326\n"
          ],
          "name": "stdout"
        }
      ]
    },
    {
      "cell_type": "code",
      "metadata": {
        "id": "hSDIjOEO6Q6S",
        "colab_type": "code",
        "outputId": "ea252820-5802-45e9-ce98-9304579065d8",
        "colab": {
          "base_uri": "https://localhost:8080/",
          "height": 34
        }
      },
      "source": [
        "torch.save(encoder1.state_dict(), '/content/drive/My Drive/DSBA/Colab Notebooks/state_dict_encoder_max_length15_niter35000_lr0007.pt')\n",
        "torch.save(attn_decoder1.state_dict(), '/content/drive/My Drive/DSBA/Colab Notebooks/state_dict_decoder_max_length15_niter35000_lr0007.pt')\n",
        "\n",
        "encoder1 = EncoderRNN(input_lang.n_words, hidden_size).to(device)\n",
        "attn_decoder1 = AttnDecoderRNN(hidden_size, output_lang.n_words, dropout_p=0.1).to(device)\n",
        "\n",
        "encoder1.load_state_dict(torch.load('/content/drive/My Drive/DSBA/Colab Notebooks/state_dict_encoder_max_length15_niter35000_lr0007.pt'))\n",
        "attn_decoder1.load_state_dict(torch.load('/content/drive/My Drive/DSBA/Colab Notebooks/state_dict_decoder_max_length15_niter35000_lr0007.pt'))\n"
      ],
      "execution_count": 25,
      "outputs": [
        {
          "output_type": "execute_result",
          "data": {
            "text/plain": [
              "<All keys matched successfully>"
            ]
          },
          "metadata": {
            "tags": []
          },
          "execution_count": 25
        }
      ]
    },
    {
      "cell_type": "code",
      "metadata": {
        "id": "kufIJFW0O2-T",
        "colab_type": "code",
        "outputId": "c4118b25-d5ea-4554-ba54-d7b108676948",
        "colab": {
          "base_uri": "https://localhost:8080/",
          "height": 187
        }
      },
      "source": [
        "output_words = beam_evaluate(encoder1, attn_decoder1, train_pairs[2][0])\n",
        "output_words"
      ],
      "execution_count": 26,
      "outputs": [
        {
          "output_type": "execute_result",
          "data": {
            "text/plain": [
              "['SOS',\n",
              " 'nous',\n",
              " 'procedons',\n",
              " 'a',\n",
              " 'des',\n",
              " 'rites',\n",
              " 'd',\n",
              " 'initiations',\n",
              " '.',\n",
              " 'EOS']"
            ]
          },
          "metadata": {
            "tags": []
          },
          "execution_count": 26
        }
      ]
    },
    {
      "cell_type": "code",
      "metadata": {
        "id": "AqgWwMA-Wr3Q",
        "colab_type": "code",
        "outputId": "54efee19-7eed-49c3-f2a4-9c0aecaba3b5",
        "colab": {
          "base_uri": "https://localhost:8080/",
          "height": 697
        }
      },
      "source": [
        "evaluateRandomly(encoder1, attn_decoder1)"
      ],
      "execution_count": 27,
      "outputs": [
        {
          "output_type": "stream",
          "text": [
            "> of course the curiosity the science component of it .\n",
            "= evidemment encore la curiosite et le cote scientifique .\n",
            "< evidemment encore la curiosite et le cote scientifique . <EOS>\n",
            "\n",
            "> this is an amazing story and adventure for you to go on .\n",
            "= cela devient une histoire extraordinaire et une aventure a vivre .\n",
            "< cela devient une histoire extraordinaire et une aventure a vivre . <EOS>\n",
            "\n",
            "> there s my boss .\n",
            "= voila mon patron .\n",
            "< voila mon patron . <EOS>\n",
            "\n",
            "> we went back to the titanic wreck .\n",
            "= nous sommes retournes a l epave du titanic .\n",
            "< nous sommes retournes a l epave du titanic . <EOS>\n",
            "\n",
            "> now i also agree that that is rational for now .\n",
            "= moi meme je trouve cela tout a fait aussi rationnel actuellement .\n",
            "< moi meme je trouve cela tout a fait aussi rationnel . <EOS>\n",
            "\n",
            "> it s an independent territory . they control all mineral resources .\n",
            "= c est un territoire independant . ils controlent toutes les ressources minerales .\n",
            "< c est un territoire independant . ils controlent toutes les ressources minerales . <EOS>\n",
            "\n",
            "> yes i m afraid of all those things .\n",
            "= oui tout cela me fait peur .\n",
            "< oui tout cela me fait peur . <EOS>\n",
            "\n",
            "> so to him they were just blocks .\n",
            "= pour lui ce n etait que des cubes .\n",
            "< pour lui ce n etait que des cubes . <EOS>\n",
            "\n",
            "> there is a huge wave of interest in happiness among researchers .\n",
            "= le theme du bonheur devient a la mode parmi les chercheurs .\n",
            "< le theme du bonheur les bonheur a la mode parmi les chercheurs . <EOS>\n",
            "\n",
            "> that s fantastic . i love big placebo .\n",
            "= c est fantastique . j adore big placebo .\n",
            "< c est fantastique . j adore big placebo . <EOS>\n",
            "\n"
          ],
          "name": "stdout"
        }
      ]
    },
    {
      "cell_type": "code",
      "metadata": {
        "id": "bYL2qQSlLaEs",
        "colab_type": "code",
        "colab": {
          "base_uri": "https://localhost:8080/",
          "height": 697
        },
        "outputId": "c8278a03-1a1a-45b2-d88c-70b85c9c96de"
      },
      "source": [
        "BEAMEvaluateRandomly(encoder1, attn_decoder1)"
      ],
      "execution_count": 28,
      "outputs": [
        {
          "output_type": "stream",
          "text": [
            "> those wires carry thousand amps when the machine is working in full power .\n",
            "= ces fils transportent treize mille amperes quand la machine marche a pleine puissance .\n",
            "< SOS ces fils transportent treize mille amperes quand la machine marche a pleine puissance . EOS\n",
            "\n",
            "> superimposed on top of a nasa geospatial image .\n",
            "= superposees a une image geospatiale de la nasa .\n",
            "< SOS superposees a une image geospatiale de la nasa . EOS\n",
            "\n",
            "> turns out all he wanted to do was to stack the siftables up .\n",
            "= en fait tout ce qui l interessait c etait d empiler les siftables .\n",
            "< SOS en fait tout ce qui l interessait c etait d empiler les siftables . EOS\n",
            "\n",
            "> it s got a feed conversion ratio of to one .\n",
            "= il a un ratio de conversion alimentaire de pour .\n",
            "< SOS il a un ratio de conversion alimentaire de pour . EOS\n",
            "\n",
            "> there is no sitting around wringing your hands .\n",
            "= personne ne s y tourne les pouces .\n",
            "< SOS personne ne s y tourne les pouces . EOS\n",
            "\n",
            "> last year at ted i gave an introduction to the lhc .\n",
            "= l annee derniere j ai presente le lhc\n",
            "< SOS l annee derniere j ai presente le lhc EOS\n",
            "\n",
            "> no . i m serious . i am .\n",
            "= si si . je suis serieuse . vraiment .\n",
            "< SOS si si . je suis serieuse . . EOS\n",
            "\n",
            "> i don t like it seared . i don t like it crispy .\n",
            "= je ne l aime pas grillee . je ne l aime pas croustillante .\n",
            "< SOS je ne l aime pas grillee . je ne l aime pas croustillante . EOS\n",
            "\n",
            "> i ll do it for you and then i ll explain it .\n",
            "= je vais vous le faire puis vous l expliquer .\n",
            "< SOS je vais vous le faire puis vous l expliquer . EOS\n",
            "\n",
            "> and i am going to suggest that this is a good thing .\n",
            "= et j ai envie de dire que c est une bonne chose .\n",
            "< SOS et j ai envie de dire que c est une bonne chose . EOS\n",
            "\n"
          ],
          "name": "stdout"
        }
      ]
    },
    {
      "cell_type": "markdown",
      "metadata": {
        "id": "edtJFwyCWr3T",
        "colab_type": "text"
      },
      "source": [
        "Visualizing Attention\n",
        "---------------------\n",
        "\n",
        "A useful property of the attention mechanism is its highly interpretable\n",
        "outputs. Because it is used to weight specific encoder outputs of the\n",
        "input sequence, we can imagine looking where the network is focused most\n",
        "at each time step.\n",
        "\n",
        "You could simply run ``plt.matshow(attentions)`` to see attention output\n",
        "displayed as a matrix, with the columns being input steps and rows being\n",
        "output steps:\n",
        "\n",
        "\n"
      ]
    },
    {
      "cell_type": "code",
      "metadata": {
        "id": "68ul92unWr3U",
        "colab_type": "code",
        "colab": {
          "base_uri": "https://localhost:8080/",
          "height": 34
        },
        "outputId": "e9c7b63f-ddee-4bb1-e8bc-8e5b40bdfc09"
      },
      "source": [
        "output_words, attentions = evaluate(\n",
        "    encoder1, attn_decoder1, \"we re lovers .\")\n",
        "plt.matshow(attentions.numpy())"
      ],
      "execution_count": 29,
      "outputs": [
        {
          "output_type": "execute_result",
          "data": {
            "text/plain": [
              "<matplotlib.image.AxesImage at 0x7ff5c8f640f0>"
            ]
          },
          "metadata": {
            "tags": []
          },
          "execution_count": 29
        }
      ]
    },
    {
      "cell_type": "markdown",
      "metadata": {
        "id": "mgKSVblpWr3V",
        "colab_type": "text"
      },
      "source": [
        "For a better viewing experience we will do the extra work of adding axes\n",
        "and labels:\n",
        "\n",
        "\n"
      ]
    },
    {
      "cell_type": "code",
      "metadata": {
        "id": "KgvbHA5jWr3W",
        "colab_type": "code",
        "colab": {
          "base_uri": "https://localhost:8080/",
          "height": 153
        },
        "outputId": "cb02a7f8-43ee-4dc7-ddfd-6b6786f1e0f0"
      },
      "source": [
        "def showAttention(input_sentence, output_words, attentions):\n",
        "    # Set up figure with colorbar\n",
        "    fig = plt.figure()\n",
        "    ax = fig.add_subplot(111)\n",
        "    cax = ax.matshow(attentions.numpy(), cmap='bone')\n",
        "    fig.colorbar(cax)\n",
        "\n",
        "    # Set up axes\n",
        "    ax.set_xticklabels([''] + input_sentence.split(' ') +\n",
        "                       ['<EOS>'], rotation=90)\n",
        "    ax.set_yticklabels([''] + output_words)\n",
        "\n",
        "    # Show label at every tick\n",
        "    ax.xaxis.set_major_locator(ticker.MultipleLocator(1))\n",
        "    ax.yaxis.set_major_locator(ticker.MultipleLocator(1))\n",
        "\n",
        "    plt.show()\n",
        "\n",
        "\n",
        "def evaluateAndShowAttention(input_sentence):\n",
        "    output_words, attentions = evaluate(\n",
        "        encoder1, attn_decoder1, input_sentence)\n",
        "    print('input =', input_sentence)\n",
        "    print('output =', ' '.join(output_words))\n",
        "    showAttention(input_sentence, output_words, attentions)\n",
        "\n",
        "\n",
        "evaluateAndShowAttention(\"i wanted to support them .\")\n",
        "\n",
        "evaluateAndShowAttention(\"yes i m afraid of all those things .\")\n",
        "\n",
        "evaluateAndShowAttention(\"the chef had overcooked it .\")\n",
        "\n",
        "evaluateAndShowAttention(\"he wanted to capture the emotion of gaming .\")"
      ],
      "execution_count": 30,
      "outputs": [
        {
          "output_type": "stream",
          "text": [
            "input = i wanted to support them .\n",
            "output = je voulais les soutenir . <EOS>\n",
            "input = yes i m afraid of all those things .\n",
            "output = oui tout cela me fait peur . <EOS>\n",
            "input = the chef had overcooked it .\n",
            "output = le chef l avait trop cuit . <EOS>\n",
            "input = he wanted to capture the emotion of gaming .\n",
            "output = il voulait capturer l emotion du joueur . <EOS>\n"
          ],
          "name": "stdout"
        }
      ]
    },
    {
      "cell_type": "code",
      "metadata": {
        "id": "2ZuqCyL0cOFa",
        "colab_type": "code",
        "colab": {}
      },
      "source": [
        ""
      ],
      "execution_count": 0,
      "outputs": []
    },
    {
      "cell_type": "markdown",
      "metadata": {
        "id": "UjwNEXM1cPD7",
        "colab_type": "text"
      },
      "source": [
        "# BLEU Score"
      ]
    },
    {
      "cell_type": "code",
      "metadata": {
        "id": "GmPy3gOEfknc",
        "colab_type": "code",
        "colab": {}
      },
      "source": [
        "def remove_unknown_words(input_lang, sentence):\n",
        "  input_words = list(input_lang.word2index.keys())\n",
        "  return ' '.join([word for word in sentence.split(' ') if word in input_words])"
      ],
      "execution_count": 0,
      "outputs": []
    },
    {
      "cell_type": "code",
      "metadata": {
        "id": "NZhz78Irm7aR",
        "colab_type": "code",
        "colab": {}
      },
      "source": [
        "def compute_bleu(mode, beam=False, beam_width=10, qsize_max=2000):\n",
        "  '''\n",
        "  :param mode: Takes values in ['train','test']. Used to compute the BLEU score on train or test datasets.\n",
        "  :param beam: False for greedy, and True for BEAM search\n",
        "  :param beam_width: beam width used for beam search \n",
        "  :param qsize_max: qsize_max used in beam search \n",
        "\n",
        "  '''\n",
        "  if mode=='train':\n",
        "    pairs_ = train_pairs\n",
        "  elif mode=='test':\n",
        "    pairs_ = test_pairs\n",
        "  else:\n",
        "    raise ValueError('mode must take values in [\"train\",\"test\"]')\n",
        "\n",
        "\n",
        "  refs = [[fr for en, fr in filterPairs(pairs_, MAX_LENGTH)]]\n",
        "  sys = []\n",
        "  params = {}\n",
        "  if beam:\n",
        "    evaluation = beam_evaluate\n",
        "    params['beam_width']=beam_width\n",
        "    params['qsize_max']=qsize_max\n",
        "  else:\n",
        "    evaluation = evaluate\n",
        "\n",
        "  for eng_sentence in [eng_sentence for eng_sentence, fra_sentence in  filterPairs(pairs_, MAX_LENGTH)]:\n",
        "    if mode=='test':\n",
        "      eng_sentence = remove_unknown_words(input_lang, eng_sentence)        \n",
        "    eval_output = evaluation(encoder1, attn_decoder1, eng_sentence, **params)\n",
        "    if beam:\n",
        "      decoded_words = eval_output\n",
        "    else:\n",
        "      decoded_words = eval_output[0]\n",
        "    sys.append(' '.join(decoded_words))\n",
        "\n",
        "\n",
        "  bleu = sacrebleu.corpus_bleu(sys, refs)\n",
        "  return bleu.score"
      ],
      "execution_count": 0,
      "outputs": []
    },
    {
      "cell_type": "code",
      "metadata": {
        "id": "mj7oMQCSvLDy",
        "colab_type": "code",
        "colab": {
          "base_uri": "https://localhost:8080/",
          "height": 34
        },
        "outputId": "0025a62f-c0de-45ed-e362-0cc459238420"
      },
      "source": [
        "compute_bleu('train')"
      ],
      "execution_count": 33,
      "outputs": [
        {
          "output_type": "execute_result",
          "data": {
            "text/plain": [
              "68.33430271030316"
            ]
          },
          "metadata": {
            "tags": []
          },
          "execution_count": 33
        }
      ]
    },
    {
      "cell_type": "code",
      "metadata": {
        "id": "HJ5V5dRnyBX7",
        "colab_type": "code",
        "colab": {
          "base_uri": "https://localhost:8080/",
          "height": 34
        },
        "outputId": "0f159092-0bcc-46d1-9c71-037cf9f1a135"
      },
      "source": [
        "compute_bleu('train', beam=True, beam_width=10, qsize_max=2000)"
      ],
      "execution_count": 34,
      "outputs": [
        {
          "output_type": "execute_result",
          "data": {
            "text/plain": [
              "76.12564063071133"
            ]
          },
          "metadata": {
            "tags": []
          },
          "execution_count": 34
        }
      ]
    },
    {
      "cell_type": "code",
      "metadata": {
        "id": "Jbt7pIekyZwX",
        "colab_type": "code",
        "colab": {
          "base_uri": "https://localhost:8080/",
          "height": 34
        },
        "outputId": "8ef74fc7-ad47-48bf-acaa-d579d41bc6de"
      },
      "source": [
        "compute_bleu('test')"
      ],
      "execution_count": 35,
      "outputs": [
        {
          "output_type": "execute_result",
          "data": {
            "text/plain": [
              "1.6962040494728532"
            ]
          },
          "metadata": {
            "tags": []
          },
          "execution_count": 35
        }
      ]
    },
    {
      "cell_type": "code",
      "metadata": {
        "id": "xW9Czej1yfr0",
        "colab_type": "code",
        "colab": {
          "base_uri": "https://localhost:8080/",
          "height": 34
        },
        "outputId": "7efe4ead-70ec-436f-8393-d8e0742bc000"
      },
      "source": [
        "compute_bleu('test', beam=True, beam_width=10, qsize_max=20000)"
      ],
      "execution_count": 36,
      "outputs": [
        {
          "output_type": "execute_result",
          "data": {
            "text/plain": [
              "2.059901073143002"
            ]
          },
          "metadata": {
            "tags": []
          },
          "execution_count": 36
        }
      ]
    },
    {
      "cell_type": "code",
      "metadata": {
        "id": "6nsJhab0yiJQ",
        "colab_type": "code",
        "colab": {
          "base_uri": "https://localhost:8080/",
          "height": 119
        },
        "outputId": "75d07222-4146-43a5-f32b-818fc2cd91f7"
      },
      "source": [
        "results = []\n",
        "for beam_width in range(10,120,20):\n",
        "  for qsize_max in [10000000]:\n",
        "    tic = datetime.now()\n",
        "    score = compute_bleu('test', beam=True, beam_width=beam_width, qsize_max=qsize_max)\n",
        "    toc = datetime.now()\n",
        "    time = toc - tic\n",
        "    time = time.seconds + (time.microseconds / 1000000)\n",
        "    print({'beam_width':beam_width, 'qsize_max':qsize_max, 'bleu_score':score, 'time':time})\n",
        "    results.append({'beam_width':beam_width, 'qsize_max':qsize_max, 'bleu_score':score, 'time':time})"
      ],
      "execution_count": 133,
      "outputs": [
        {
          "output_type": "stream",
          "text": [
            "{'beam_width': 10, 'qsize_max': 10000000, 'bleu_score': 2.2496439095010525, 'time': 10.19539}\n",
            "{'beam_width': 30, 'qsize_max': 10000000, 'bleu_score': 2.2338834871547286, 'time': 14.503721}\n",
            "{'beam_width': 50, 'qsize_max': 10000000, 'bleu_score': 2.079960197726835, 'time': 19.47248}\n",
            "{'beam_width': 70, 'qsize_max': 10000000, 'bleu_score': 2.1043954149261928, 'time': 24.134588}\n",
            "{'beam_width': 90, 'qsize_max': 10000000, 'bleu_score': 2.0856677164510224, 'time': 28.797434}\n",
            "{'beam_width': 110, 'qsize_max': 10000000, 'bleu_score': 2.0505665905149537, 'time': 33.685746}\n"
          ],
          "name": "stdout"
        }
      ]
    },
    {
      "cell_type": "code",
      "metadata": {
        "id": "EmYF29VnLRe3",
        "colab_type": "code",
        "colab": {}
      },
      "source": [
        "import pandas as pd\n",
        "results_df = pd.DataFrame(results)\n",
        "results_df.to_csv('/content/drive/My Drive/DSBA/Colab Notebooks/results_max_length15_niter35000_hiddendepth2_lr0007_largebeam.csv')"
      ],
      "execution_count": 0,
      "outputs": []
    },
    {
      "cell_type": "code",
      "metadata": {
        "id": "6ZaQaJaoLPwi",
        "colab_type": "code",
        "colab": {}
      },
      "source": [
        "results_df.set_index('beam_width', inplace=True)"
      ],
      "execution_count": 0,
      "outputs": []
    },
    {
      "cell_type": "code",
      "metadata": {
        "id": "kDHhqP_XycDI",
        "colab_type": "code",
        "colab": {
          "base_uri": "https://localhost:8080/",
          "height": 460
        },
        "outputId": "3a2fe298-c8f0-489c-da93-52293f0a32b9"
      },
      "source": [
        "results_df[['bleu_score']].plot(figsize=(7,7))"
      ],
      "execution_count": 136,
      "outputs": [
        {
          "output_type": "execute_result",
          "data": {
            "text/plain": [
              "<matplotlib.axes._subplots.AxesSubplot at 0x7ff580284860>"
            ]
          },
          "metadata": {
            "tags": []
          },
          "execution_count": 136
        },
        {
          "output_type": "display_data",
          "data": {
            "image/png": "[encoded data removed]",
            "text/plain": [
              "<Figure size 504x504 with 1 Axes>"
            ]
          },
          "metadata": {
            "tags": [],
            "needs_background": "light"
          }
        }
      ]
    },
    {
      "cell_type": "code",
      "metadata": {
        "id": "f9tDURzH2Sq3",
        "colab_type": "code",
        "colab": {
          "base_uri": "https://localhost:8080/",
          "height": 460
        },
        "outputId": "b1ff02f1-4731-458c-a3ee-9abb196537ba"
      },
      "source": [
        "results_df[['time']].plot(figsize=(7,7))"
      ],
      "execution_count": 137,
      "outputs": [
        {
          "output_type": "execute_result",
          "data": {
            "text/plain": [
              "<matplotlib.axes._subplots.AxesSubplot at 0x7ff580189940>"
            ]
          },
          "metadata": {
            "tags": []
          },
          "execution_count": 137
        },
        {
          "output_type": "display_data",
          "data": {
            "image/png": "[encoded data removed]",
            "text/plain": [
              "<Figure size 504x504 with 1 Axes>"
            ]
          },
          "metadata": {
            "tags": [],
            "needs_background": "light"
          }
        }
      ]
    },
    {
      "cell_type": "code",
      "metadata": {
        "id": "wxRsqd-s81N6",
        "colab_type": "code",
        "colab": {}
      },
      "source": [
        ""
      ],
      "execution_count": 0,
      "outputs": []
    }
  ]
}